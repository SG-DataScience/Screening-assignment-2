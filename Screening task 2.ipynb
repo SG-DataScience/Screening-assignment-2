{
 "cells": [
  {
   "cell_type": "markdown",
   "metadata": {},
   "source": [
    "# Work done on SQL(SQL queries)"
   ]
  },
  {
   "cell_type": "markdown",
   "metadata": {},
   "source": [
    "Snips of all the queries done in SQL are provided in the github."
   ]
  },
  {
   "cell_type": "code",
   "execution_count": null,
   "metadata": {},
   "outputs": [],
   "source": []
  },
  {
   "cell_type": "markdown",
   "metadata": {},
   "source": [
    "# Insert record using python script."
   ]
  },
  {
   "cell_type": "markdown",
   "metadata": {},
   "source": [
    "### connecting to the SQl database:"
   ]
  },
  {
   "cell_type": "code",
   "execution_count": 1,
   "metadata": {
    "scrolled": false
   },
   "outputs": [
    {
     "name": "stdout",
     "output_type": "stream",
     "text": [
      "Requirement already satisfied: mysql-connector-python in c:\\users\\pc\\anaconda3\\lib\\site-packages (8.0.22)\n",
      "Collecting protobuf>=3.0.0\n",
      "  Downloading protobuf-4.21.1-cp38-cp38-win_amd64.whl (524 kB)\n",
      "Installing collected packages: protobuf\n",
      "Successfully installed protobuf-4.21.1\n",
      "Note: you may need to restart the kernel to use updated packages.\n"
     ]
    }
   ],
   "source": [
    "pip install mysql-connector-python"
   ]
  },
  {
   "cell_type": "code",
   "execution_count": 9,
   "metadata": {},
   "outputs": [
    {
     "name": "stdout",
     "output_type": "stream",
     "text": [
      "8.0.22\n",
      "You're connected to database:  ('bank',)\n"
     ]
    }
   ],
   "source": [
    "import mysql.connector\n",
    "conn = mysql.connector.connect(host='localhost',database='bank',user='root',password='sandipa@7') \n",
    "db_Info = conn.get_server_info()\n",
    "print(db_Info)\n",
    "cursor = conn.cursor()\n",
    "cursor.execute(\"select database();\")\n",
    "record = cursor.fetchone()\n",
    "print(\"You're connected to database: \", record)"
   ]
  },
  {
   "cell_type": "code",
   "execution_count": 20,
   "metadata": {},
   "outputs": [
    {
     "data": {
      "text/plain": [
       "[]"
      ]
     },
     "execution_count": 20,
     "metadata": {},
     "output_type": "execute_result"
    }
   ],
   "source": [
    "cursor.execute(\"select * from Bank_Account\")\n",
    "cursor.fetchall()"
   ]
  },
  {
   "cell_type": "markdown",
   "metadata": {},
   "source": [
    "### Inserting records to Bank_Account Table:"
   ]
  },
  {
   "cell_type": "code",
   "execution_count": 21,
   "metadata": {},
   "outputs": [
    {
     "name": "stdout",
     "output_type": "stream",
     "text": [
      "3 Record inserted successfully into Bank_account table\n"
     ]
    }
   ],
   "source": [
    "mySql_insert_query = \"\"\"INSERT INTO Bank_Account (User_id,Bank_Account_id,Bank_Account_no,Is_User_Active,Amount) \n",
    "                           VALUES (%s, %s, %s, %s ,%s) \"\"\"\n",
    "\n",
    "records_to_insert = [(1,10,1111,\"yes\",10000),\n",
    "                         (2,11,2222,\"yes\",12000),\n",
    "                         (3,12,3333,\"yes\",15000)]\n",
    "\n",
    "    \n",
    "cursor.executemany(mySql_insert_query, records_to_insert)\n",
    "conn.commit()\n",
    "print(cursor.rowcount, \"Record inserted successfully into Bank_account table\")"
   ]
  },
  {
   "cell_type": "code",
   "execution_count": 23,
   "metadata": {},
   "outputs": [
    {
     "data": {
      "text/plain": [
       "[(1, 10, 1111, 'yes', 10000),\n",
       " (2, 11, 2222, 'yes', 12000),\n",
       " (3, 12, 3333, 'yes', 15000)]"
      ]
     },
     "execution_count": 23,
     "metadata": {},
     "output_type": "execute_result"
    }
   ],
   "source": [
    "cursor.execute(\"select * from Bank_Account\")\n",
    "cursor.fetchall()"
   ]
  },
  {
   "cell_type": "code",
   "execution_count": 8,
   "metadata": {},
   "outputs": [],
   "source": [
    "#cursor.close()\n",
    "#conn.close()"
   ]
  },
  {
   "cell_type": "markdown",
   "metadata": {},
   "source": [
    "### Inserting records to User Table:"
   ]
  },
  {
   "cell_type": "code",
   "execution_count": 28,
   "metadata": {},
   "outputs": [
    {
     "name": "stdout",
     "output_type": "stream",
     "text": [
      "3 Record inserted successfully into Bank_account table\n"
     ]
    }
   ],
   "source": [
    "mySql_insert_query = \"\"\"INSERT INTO User (User_id,User_name,User_DOB,User_email,User_created_date) \n",
    "                           VALUES (%s, %s, %s, %s ,%s) \"\"\"\n",
    "\n",
    "records_to_insert = [(1,\"jack\",\"1990-11-13\",\"asd@gmail.com\",\"2005-11-16\"),\n",
    "                         (2,\"linda\",\"1988-11-18\",\"qwe@gmail.com\",\"2004-12-19\"),\n",
    "                         (3,\"mark\",\"1985-12-28\",\"zxc@gmail.com\",\"2000-12-22\")]\n",
    "\n",
    "    \n",
    "cursor.executemany(mySql_insert_query, records_to_insert)\n",
    "conn.commit()\n",
    "print(cursor.rowcount, \"Record inserted successfully into Bank_account table\")"
   ]
  },
  {
   "cell_type": "code",
   "execution_count": 29,
   "metadata": {},
   "outputs": [
    {
     "data": {
      "text/plain": [
       "[(1,\n",
       "  'jack',\n",
       "  datetime.date(1990, 11, 13),\n",
       "  'asd@gmail.com',\n",
       "  datetime.date(2005, 11, 16)),\n",
       " (2,\n",
       "  'linda',\n",
       "  datetime.date(1988, 11, 18),\n",
       "  'qwe@gmail.com',\n",
       "  datetime.date(2004, 12, 19)),\n",
       " (3,\n",
       "  'mark',\n",
       "  datetime.date(1985, 12, 28),\n",
       "  'zxc@gmail.com',\n",
       "  datetime.date(2000, 12, 22))]"
      ]
     },
     "execution_count": 29,
     "metadata": {},
     "output_type": "execute_result"
    }
   ],
   "source": [
    "cursor.execute(\"select * from User\")\n",
    "cursor.fetchall()"
   ]
  },
  {
   "cell_type": "markdown",
   "metadata": {},
   "source": [
    "### Inserting records to Transaction_table :"
   ]
  },
  {
   "cell_type": "code",
   "execution_count": 31,
   "metadata": {},
   "outputs": [
    {
     "name": "stdout",
     "output_type": "stream",
     "text": [
      "5 Record inserted successfully into Bank_account table\n"
     ]
    }
   ],
   "source": [
    "mySql_insert_query = \"\"\"INSERT INTO Transaction_table (Transaction_date,User_id,Bank_Account_id,Withdrawn_amount) \n",
    "                           VALUES (%s, %s, %s, %s ) \"\"\"\n",
    "\n",
    "records_to_insert = [(\"2006-06-14\",1,10,1000),\n",
    "                         (\"2007-06-14\",1,10,500),\n",
    "                         (\"2008-06-14\",1,10,500),\n",
    "                         (\"2007-08-19\",2,11,2000),\n",
    "                         (\"2003-11-09\",3,12,1500)]\n",
    "\n",
    "    \n",
    "cursor.executemany(mySql_insert_query, records_to_insert)\n",
    "conn.commit()\n",
    "print(cursor.rowcount, \"Record inserted successfully into Bank_account table\")"
   ]
  },
  {
   "cell_type": "code",
   "execution_count": 32,
   "metadata": {},
   "outputs": [
    {
     "data": {
      "text/plain": [
       "[(datetime.date(2006, 6, 14), 1, 10, 1000),\n",
       " (datetime.date(2007, 6, 14), 1, 10, 500),\n",
       " (datetime.date(2008, 6, 14), 1, 10, 500),\n",
       " (datetime.date(2007, 8, 19), 2, 11, 2000),\n",
       " (datetime.date(2003, 11, 9), 3, 12, 1500)]"
      ]
     },
     "execution_count": 32,
     "metadata": {},
     "output_type": "execute_result"
    }
   ],
   "source": [
    "cursor.execute(\"select * from Transaction_table\")\n",
    "cursor.fetchall()"
   ]
  },
  {
   "cell_type": "markdown",
   "metadata": {},
   "source": [
    "### Checking account statement:for a given interval of time(From date and To date)."
   ]
  },
  {
   "cell_type": "code",
   "execution_count": 40,
   "metadata": {},
   "outputs": [
    {
     "name": "stdout",
     "output_type": "stream",
     "text": [
      "Transaction Details Of The Customer (with date of transaction,User_id,Bank_Account_id and Withdrawn_amount):\n",
      "\n",
      "\n"
     ]
    },
    {
     "data": {
      "text/plain": [
       "[(datetime.date(2006, 6, 14), 1, 10, 1000),\n",
       " (datetime.date(2007, 6, 14), 1, 10, 500)]"
      ]
     },
     "execution_count": 40,
     "metadata": {},
     "output_type": "execute_result"
    }
   ],
   "source": [
    "#lets check the transaction detail for a given interval of time:\n",
    "#(this is a demo,dynamic function has been created in the below class \"Bank_Account_Details\" using oops.)\n",
    "\n",
    "t_query = \"\"\"SELECT \n",
    "    *\n",
    "FROM\n",
    "    bank.transaction_table\n",
    "where (Transaction_date > \"2006-06-01\" and Transaction_date < \"2008-01-01\") and User_id = \"1\";\"\"\"\n",
    "\n",
    "cursor.execute(t_query)\n",
    "print(\"Transaction Details Of The Customer (with date of transaction,User_id,Bank_Account_id and Withdrawn_amount):\")\n",
    "print(\"\\n\")\n",
    "cursor.fetchall()"
   ]
  },
  {
   "cell_type": "code",
   "execution_count": null,
   "metadata": {},
   "outputs": [],
   "source": []
  },
  {
   "cell_type": "markdown",
   "metadata": {},
   "source": [
    "# Invoke stored procedure using python script."
   ]
  },
  {
   "cell_type": "markdown",
   "metadata": {},
   "source": [
    "### calling the stored procedure \"Check_account_balance\" with different user_id:"
   ]
  },
  {
   "cell_type": "code",
   "execution_count": 34,
   "metadata": {},
   "outputs": [
    {
     "name": "stdout",
     "output_type": "stream",
     "text": [
      "Printing account balance for user_id = 1 \n",
      "[(10000,)]\n"
     ]
    }
   ],
   "source": [
    "cursor.callproc('Check_account_balance', [1, ])\n",
    "# print results\n",
    "print(\"Printing account balance for user_id = 1 \")\n",
    "for result in cursor.stored_results():\n",
    "    \n",
    "    print(result.fetchall())"
   ]
  },
  {
   "cell_type": "code",
   "execution_count": 43,
   "metadata": {},
   "outputs": [
    {
     "name": "stdout",
     "output_type": "stream",
     "text": [
      "Printing account balance for user_id = 3 \n",
      "[(15000,)]\n"
     ]
    }
   ],
   "source": [
    "cursor.callproc('Check_account_balance', [3, ])\n",
    "# print results\n",
    "print(\"Printing account balance for user_id = 3 \")\n",
    "for result in cursor.stored_results():\n",
    "    \n",
    "    print(result.fetchall())"
   ]
  },
  {
   "cell_type": "markdown",
   "metadata": {},
   "source": [
    "### calling the stored procedure \"Withdrawn_amount\" with different user_id:"
   ]
  },
  {
   "cell_type": "code",
   "execution_count": 10,
   "metadata": {},
   "outputs": [
    {
     "name": "stdout",
     "output_type": "stream",
     "text": [
      "Printing Withdrawn_amount for user_id = 1 \n",
      "[('withdrawl from account is successful', '500', 9500)]\n"
     ]
    }
   ],
   "source": [
    "#This stored procedure checks the withdrawl is possible or not and how much amount has been withdrawn \n",
    "#as well as the remaining balance\n",
    "\n",
    "cursor.callproc('Withdrawn_amount', [1,500,])      #here the withdrawl is successful.\n",
    "# print results\n",
    "print(\"Printing Withdrawn_amount for user_id = 1 \")\n",
    "for result in cursor.stored_results():\n",
    "    \n",
    "    print(result.fetchall())"
   ]
  },
  {
   "cell_type": "code",
   "execution_count": 11,
   "metadata": {},
   "outputs": [
    {
     "name": "stdout",
     "output_type": "stream",
     "text": [
      "Printing Withdrawn_amount for user_id = 1 \n",
      "[('Insufficient balance,withdrawl failed', 'null', 10000)]\n"
     ]
    }
   ],
   "source": [
    "cursor.callproc('Withdrawn_amount', [1,5000,])   #here the withdrawl is failed due to insufficient amount.\n",
    "# print results\n",
    "print(\"Printing Withdrawn_amount for user_id = 1 \")\n",
    "for result in cursor.stored_results():\n",
    "    \n",
    "    print(result.fetchall())"
   ]
  },
  {
   "cell_type": "code",
   "execution_count": null,
   "metadata": {},
   "outputs": [],
   "source": []
  },
  {
   "cell_type": "markdown",
   "metadata": {},
   "source": [
    "### calling the stored procedure \"possible_Withdrawl_amount2\" with different user_id:"
   ]
  },
  {
   "cell_type": "code",
   "execution_count": 16,
   "metadata": {},
   "outputs": [],
   "source": [
    "#This stored procedure checks how much withdrawl is possible from a customer's account"
   ]
  },
  {
   "cell_type": "code",
   "execution_count": 52,
   "metadata": {},
   "outputs": [
    {
     "name": "stdout",
     "output_type": "stream",
     "text": [
      "Printing possible_Withdrawl_amount for user_id = 1 \n",
      "[(5000,)]\n"
     ]
    }
   ],
   "source": [
    "cursor.callproc('possible_Withdrawl_amount2', [1, ])\n",
    "# print results\n",
    "print(\"Printing possible_Withdrawl_amount for user_id = 1 \")\n",
    "for result in cursor.stored_results():\n",
    "    \n",
    "    print(result.fetchall())"
   ]
  },
  {
   "cell_type": "code",
   "execution_count": 53,
   "metadata": {},
   "outputs": [
    {
     "name": "stdout",
     "output_type": "stream",
     "text": [
      "Printing possible_Withdrawl_amount for user_id = 3 \n",
      "[(10000,)]\n"
     ]
    }
   ],
   "source": [
    "cursor.callproc('possible_Withdrawl_amount2', [3, ])\n",
    "# print results\n",
    "print(\"Printing possible_Withdrawl_amount for user_id = 3 \")\n",
    "for result in cursor.stored_results():\n",
    "    \n",
    "    print(result.fetchall())"
   ]
  },
  {
   "cell_type": "code",
   "execution_count": null,
   "metadata": {},
   "outputs": [],
   "source": []
  },
  {
   "cell_type": "markdown",
   "metadata": {},
   "source": [
    "# Use OOPs to design python programs to implement all functionality mentioned in the questions--"
   ]
  },
  {
   "cell_type": "markdown",
   "metadata": {},
   "source": [
    "#### 1. checking the account balance\n",
    "#### 2. checking the withdrawl amount\n",
    "#### 3. checking that the withdrawl is possible or not and how much amount has been withdrawn as well as the remaining balance after withdrawl\n",
    "#### 4. Checking account statement:for a given interval of time(From date and To date). "
   ]
  },
  {
   "cell_type": "markdown",
   "metadata": {},
   "source": [
    "Here I have created a Bank Account Details class which contain 4 different functions, using which we can check all the details-- like , the account balance of a customer,checking that the withdrawl is possible or not and how much amount has been withdrawn as well as the remaining balance after withdrawl ,the amount a customer can withdraw , the transaction details of a customer from a perticular date to another date.\n",
    "All the customer info is referred from the tables created in the MySql database.The Bank_Account class fetch the record from those table and shows the output here.\n"
   ]
  },
  {
   "cell_type": "code",
   "execution_count": 17,
   "metadata": {},
   "outputs": [],
   "source": [
    "class Bank_Account_Details:\n",
    "    \n",
    "    def __init__(self):\n",
    "        \n",
    "        print(\"Bank Account Details Of The Customers:\")\n",
    "        print(\"--------------------------------------\")\n",
    "        print(\"\\n\")\n",
    "    \n",
    "    \n",
    "    def Account_balance_check(self):\n",
    "        \n",
    "        print(\"Net Account Balance Of The Customer: \")\n",
    "        import mysql.connector\n",
    "        conn = mysql.connector.connect(host='localhost',database='bank',user='root',password='sandipa@7')  \n",
    "        cursor = conn.cursor()\n",
    "        u_id=int(input(\"Enter the user_id: \"))\n",
    "        \n",
    "        # demo--> use user_id 1 or 2 or 3 to check the output.\n",
    "        \n",
    "        cursor.callproc('Check_account_balance', [u_id, ])\n",
    "        # print results\n",
    "        print(\"Printing account balance for user_id = \",u_id)\n",
    "        for result in cursor.stored_results():\n",
    "            print(result.fetchall())\n",
    "        print(\"\\n\")\n",
    "        print(\"-----------------------------------------------------------------------------------------\")\n",
    "        print(\"\\n\")\n",
    "        cursor.close()\n",
    "        conn.close() \n",
    "    \n",
    "    \n",
    "    def Withdrawn_amount(self):\n",
    "        #calling the stored procedure to withdraw the amount.\n",
    "        \n",
    "        print(\"Withdrawl status , amount withdrawn and remaining balance of customer: \")\n",
    "        import mysql.connector\n",
    "        conn = mysql.connector.connect(host='localhost',database='bank',user='root',password='sandipa@7')  \n",
    "        cursor = conn.cursor()\n",
    "        u_id=int(input(\"Enter the user_id: \"))\n",
    "        print(\"Withdrawn_amount for user_id = \",u_id)\n",
    "        w_a=int(input(\"Enter the amount you want to withdraw \"))\n",
    "        \n",
    "        # demo--> use user_id 1 or 2 or 3 to check the output.\n",
    "        \n",
    "        cursor.callproc('Withdrawn_amount', [u_id,w_a, ])\n",
    "        # print results\n",
    "        print(\"\\n\")\n",
    "        print(\"Withdrawl status , amount withdrawn and remaining balance of customer: \")\n",
    "        for result in cursor.stored_results():\n",
    "            print(result.fetchall())\n",
    "        print(\"\\n\")\n",
    "        print(\"-----------------------------------------------------------------------------------------\")\n",
    "        print(\"\\n\")\n",
    "        cursor.close()\n",
    "        conn.close()     \n",
    "        \n",
    "    def possible_Withdrawl_amount(self):\n",
    "        \n",
    "        print(\"The Net Amount, The Customer Can Withdraw : \")\n",
    "        import mysql.connector\n",
    "        conn = mysql.connector.connect(host='localhost',database='bank',user='root',password='sandipa@7')  \n",
    "        cursor = conn.cursor()\n",
    "        u_id=int(input(\"Enter the user_id: \"))\n",
    "        \n",
    "        # demo--> use user_id 1 or 2 or 3 to check the output.\n",
    "        \n",
    "        cursor.callproc('possible_Withdrawl_amount2', [u_id, ])\n",
    "        # print results\n",
    "        print(\"Printing possible_Withdrawl_amount for user_id = \",u_id)\n",
    "        for result in cursor.stored_results():\n",
    "            print(result.fetchall())\n",
    "        print(\"\\n\")\n",
    "        print(\"-----------------------------------------------------------------------------------------\")\n",
    "        print(\"\\n\")\n",
    "        cursor.close()\n",
    "        conn.close()      \n",
    "    \n",
    "    \n",
    "    def transaction_details(self):\n",
    "        \n",
    "        import mysql.connector\n",
    "        conn = mysql.connector.connect(host='localhost',database='bank',user='root',password='sandipa@7')  \n",
    "        cursor = conn.cursor()\n",
    "        import datetime\n",
    "        u_id = int(input(\"Enter the user_id: \"))\n",
    "        query = (\"SELECT * from transaction_table \"\n",
    "                 \"WHERE (Transaction_date BETWEEN %s AND %s) and User_id = %s\")\n",
    "\n",
    "        from_date_entry = input('Enter a  start date in YYYY-MM-DD format')\n",
    "        s_year, s_month, s_day = map(int, from_date_entry.split('-'))\n",
    "        from_date = datetime.date(s_year, s_month, s_day)\n",
    "\n",
    "        to_date_entry = input('Enter the to date in YYYY-MM-DD format')\n",
    "        to_year, to_month, to_day = map(int, to_date_entry.split('-'))\n",
    "        to_date = datetime.date(to_year, to_month, to_day)\n",
    "        \n",
    "        #demo--> enter start date as 2006-01-01, and to_date as 2008-01-01 and User_id as 1 to check the result.\n",
    "\n",
    "        cursor.execute(query, (from_date, to_date,u_id))\n",
    "        #print(cursor.fetchall())\n",
    "        print(\"\\n\")\n",
    "        print(\"Transaction Details Of The Customer (with date of transaction,User_id,Bank_Account_id and Withdrawn_amount):\")\n",
    "        print(\"\\n\")\n",
    "        for i in list(cursor.fetchall()):\n",
    "\n",
    "            print(i)\n",
    "        cursor.close()\n",
    "        conn.close()  "
   ]
  },
  {
   "cell_type": "code",
   "execution_count": 14,
   "metadata": {},
   "outputs": [
    {
     "name": "stdout",
     "output_type": "stream",
     "text": [
      "Bank Account Details Of The Customers:\n",
      "--------------------------------------\n",
      "\n",
      "\n",
      "Net Account Balance Of The Customer: \n",
      "Enter the user_id: 1\n",
      "Printing account balance for user_id =  1\n",
      "[(10000,)]\n",
      "\n",
      "\n",
      "-----------------------------------------------------------------------------------------\n",
      "\n",
      "\n",
      "Withdrawl status , amount withdrawn and remaining balance of customer: \n",
      "Enter the user_id: 1\n",
      "Withdrawn_amount for user_id =  1\n",
      "Enter the amount you want to withdraw 500\n",
      "\n",
      "\n",
      "Withdrawl status , amount withdrawn and remaining balance of customer: \n",
      "[('withdrawl from account is successful', '500', 9500)]\n",
      "\n",
      "\n",
      "-----------------------------------------------------------------------------------------\n",
      "\n",
      "\n",
      "The Net Amount, The Customer Can Withdraw : \n",
      "Enter the user_id: 1\n",
      "Printing possible_Withdrawl_amount for user_id =  1\n",
      "[(5000,)]\n",
      "\n",
      "\n",
      "-----------------------------------------------------------------------------------------\n",
      "\n",
      "\n",
      "Enter the user_id: 1\n",
      "Enter a  start date in YYYY-MM-DD format2006-01-01\n",
      "Enter the to date in YYYY-MM-DD format2008-01-01\n",
      "\n",
      "\n",
      "Transaction Details Of The Customer (with date of transaction,User_id,Bank_Account_id and Withdrawn_amount):\n",
      "\n",
      "\n",
      "(datetime.date(2006, 6, 14), 1, 10, 1000)\n",
      "(datetime.date(2007, 6, 14), 1, 10, 500)\n"
     ]
    }
   ],
   "source": [
    "#here I have created a object for the \"Bank_Account_Details\" class and demonstrated all the functionality :\n",
    "#It is a demo where the withdrawl is possible\n",
    "\n",
    "a = Bank_Account_Details()\n",
    "a.Account_balance_check()\n",
    "a.Withdrawn_amount()\n",
    "a.possible_Withdrawl_amount()\n",
    "a.transaction_details()"
   ]
  },
  {
   "cell_type": "code",
   "execution_count": 18,
   "metadata": {},
   "outputs": [
    {
     "name": "stdout",
     "output_type": "stream",
     "text": [
      "Bank Account Details Of The Customers:\n",
      "--------------------------------------\n",
      "\n",
      "\n",
      "Net Account Balance Of The Customer: \n",
      "Enter the user_id: 1\n",
      "Printing account balance for user_id =  1\n",
      "[(10000,)]\n",
      "\n",
      "\n",
      "-----------------------------------------------------------------------------------------\n",
      "\n",
      "\n",
      "Withdrawl status , amount withdrawn and remaining balance of customer: \n",
      "Enter the user_id: 1\n",
      "Withdrawn_amount for user_id =  1\n",
      "Enter the amount you want to withdraw 15000\n",
      "\n",
      "\n",
      "Withdrawl status , amount withdrawn and remaining balance of customer: \n",
      "[('Insufficient balance,withdrawl failed', 'null', 10000)]\n",
      "\n",
      "\n",
      "-----------------------------------------------------------------------------------------\n",
      "\n",
      "\n",
      "The Net Amount, The Customer Can Withdraw : \n",
      "Enter the user_id: 1\n",
      "Printing possible_Withdrawl_amount for user_id =  1\n",
      "[(5000,)]\n",
      "\n",
      "\n",
      "-----------------------------------------------------------------------------------------\n",
      "\n",
      "\n",
      "Enter the user_id: 1\n",
      "Enter a  start date in YYYY-MM-DD format2006-01-01\n",
      "Enter the to date in YYYY-MM-DD format2008-01-01\n",
      "\n",
      "\n",
      "Transaction Details Of The Customer (with date of transaction,User_id,Bank_Account_id and Withdrawn_amount):\n",
      "\n",
      "\n",
      "(datetime.date(2006, 6, 14), 1, 10, 1000)\n",
      "(datetime.date(2007, 6, 14), 1, 10, 500)\n"
     ]
    }
   ],
   "source": [
    "#here I have created another object for the \"Bank_Account_Details\" class and demonstrated all the functionality :\n",
    "#It is a demo where the withdrawl is not possible\n",
    "\n",
    "a = Bank_Account_Details()\n",
    "a.Account_balance_check()\n",
    "a.Withdrawn_amount()\n",
    "a.possible_Withdrawl_amount()\n",
    "a.transaction_details()"
   ]
  },
  {
   "cell_type": "code",
   "execution_count": null,
   "metadata": {},
   "outputs": [],
   "source": []
  },
  {
   "cell_type": "code",
   "execution_count": null,
   "metadata": {},
   "outputs": [],
   "source": []
  },
  {
   "cell_type": "markdown",
   "metadata": {},
   "source": [
    "# Here I have also created another Generalised Class for the Banking System by designing a oops to implement all functionality according to the question given :"
   ]
  },
  {
   "cell_type": "markdown",
   "metadata": {},
   "source": [
    "Here I have created a generalised oops conscept to demonstrate the functionality of a Banking sustem irrespective of any data base, and only based on the inputs provided by the user and following the mentioned condition in the given question --like \"Minimum balance 5000 rupees must be maintained in each user account\"."
   ]
  },
  {
   "cell_type": "markdown",
   "metadata": {},
   "source": [
    "The class Bank_Account checks the account balance, deposit amount, amount to be Withdrawn also the net balance after withdrawl and the transaction details of the customer through 4 different functions created inside the class."
   ]
  },
  {
   "cell_type": "code",
   "execution_count": 44,
   "metadata": {},
   "outputs": [],
   "source": [
    "class Bank_Account:\n",
    "    def __init__(self):\n",
    "        self.balance=10000\n",
    "        self.amount=0\n",
    "        print(\"Bank Account Details of the Customer:\")\n",
    "        print(\"--------------------------------------\")\n",
    "        \n",
    "        \n",
    "    def check_balance(self):\n",
    "        print(\"\\n Net Available Initial Balance=\",self.balance)\n",
    "        print(\"\\n\")\n",
    "        print(\"-----------------------------------------------------------------------------------------\")\n",
    "        print(\"\\n\")\n",
    "        \n",
    "        \n",
    "    def deposit_amount(self):\n",
    "        amount=float(input(\"Enter amount to be Deposited: \"))\n",
    "        self.balance += amount\n",
    "        print(\"\\n Amount Deposited:\",amount)\n",
    "        print(\" Updated balance after deposit:\",self.balance)\n",
    "        print(\"\\n\")\n",
    "        print(\"-----------------------------------------------------------------------------------------\")\n",
    "        print(\"\\n\")\n",
    "        \n",
    "        \n",
    "    def withdraw_amount(self):\n",
    "        \n",
    "        #according to the condition\"Minimum balance 5000 rupees must be maintained in each user account.\"\n",
    "        \n",
    "        self.amount += float(input(\"Enter amount to be Withdrawn: \"))\n",
    "        if self.balance>=self.amount+5000:                      \n",
    "            self.balance-=self.amount\n",
    "            print(\"\\n Transaction successful\")\n",
    "            print(\" You Withdrew:\", self.amount)\n",
    "            print(\" Your available balance after withdrawl is:\",self.balance)\n",
    "            from datetime import date\n",
    "            d = date.today()\n",
    "            today = d.strftime(\"%Y-%m-%d\")\n",
    "             \n",
    "        else:\n",
    "            print(\"\\n Insufficient balance  \")\n",
    "            self.amount=0\n",
    "            \n",
    "            from datetime import date\n",
    "            d = date.today()\n",
    "            today = d.strftime(\"%Y-%m-%d\")\n",
    "            print(\"Transaction failed on {}\".format(today))\n",
    "        print(\"-----------------------------------------------------------------------------------------\")\n",
    "        print(\"\\n\")\n",
    "        \n",
    "        \n",
    "    def transaction_detail(self):\n",
    "        from datetime import date\n",
    "        d = date.today()\n",
    "        today = d.strftime(\"%Y-%m-%d\")\n",
    "        print(\"Transaction Details : \")\n",
    "        print(\" Your last withdrawn amount is {} on date {}\".format(self.amount,today))\n",
    "        print(\" Your available current balance is: \",self.balance)\n",
    " \n",
    "    "
   ]
  },
  {
   "cell_type": "code",
   "execution_count": 42,
   "metadata": {},
   "outputs": [
    {
     "name": "stdout",
     "output_type": "stream",
     "text": [
      "Bank Account Details of the Customer:\n",
      "--------------------------------------\n",
      "\n",
      " Net Available Initial Balance= 10000\n",
      "\n",
      "\n",
      "-----------------------------------------------------------------------------------------\n",
      "\n",
      "\n",
      "Enter amount to be Deposited: 1000\n",
      "\n",
      " Amount Deposited: 1000.0\n",
      " Updated balance after deposit: 11000.0\n",
      "\n",
      "\n",
      "-----------------------------------------------------------------------------------------\n",
      "\n",
      "\n",
      "Enter amount to be Withdrawn: 800\n",
      "\n",
      " Transaction successful\n",
      " You Withdrew: 800.0\n",
      " Your available balance after withdrawl is: 10200.0\n",
      "-----------------------------------------------------------------------------------------\n",
      "\n",
      "\n",
      "Transaction Details : \n",
      " Your last withdrawn amount is 800.0 on date 2022-06-09\n",
      " Your available current balance is:  10200.0\n"
     ]
    }
   ],
   "source": [
    "#here I have created a object for the Bank_account class and demonstrated all the functionality :\n",
    "#demo--> for successful transaction\n",
    "\n",
    "b2 = Bank_Account()\n",
    "b2.check_balance()\n",
    "b2.deposit_amount()\n",
    "b2.withdraw_amount()\n",
    "b2.transaction_detail()\n"
   ]
  },
  {
   "cell_type": "code",
   "execution_count": 45,
   "metadata": {},
   "outputs": [
    {
     "name": "stdout",
     "output_type": "stream",
     "text": [
      "Bank Account Details of the Customer:\n",
      "--------------------------------------\n",
      "\n",
      " Net Available Initial Balance= 10000\n",
      "\n",
      "\n",
      "-----------------------------------------------------------------------------------------\n",
      "\n",
      "\n",
      "Enter amount to be Deposited: 1000\n",
      "\n",
      " Amount Deposited: 1000.0\n",
      " Updated balance after deposit: 11000.0\n",
      "\n",
      "\n",
      "-----------------------------------------------------------------------------------------\n",
      "\n",
      "\n",
      "Enter amount to be Withdrawn: 15000\n",
      "\n",
      " Insufficient balance  \n",
      "Transaction failed on 2022-06-09\n",
      "-----------------------------------------------------------------------------------------\n",
      "\n",
      "\n",
      "Transaction Details : \n",
      " Your last withdrawn amount is 0 on date 2022-06-09\n",
      " Your available current balance is:  11000.0\n"
     ]
    }
   ],
   "source": [
    "#here I have created another object for the Bank_account class and demonstrated all the functionality :\n",
    "#demo--> for failed transaction\n",
    "\n",
    "b3 = Bank_Account()\n",
    "b3.check_balance()\n",
    "b3.deposit_amount()\n",
    "b3.withdraw_amount()\n",
    "b3.transaction_detail()\n"
   ]
  },
  {
   "cell_type": "code",
   "execution_count": null,
   "metadata": {},
   "outputs": [],
   "source": []
  }
 ],
 "metadata": {
  "kernelspec": {
   "display_name": "Python 3",
   "language": "python",
   "name": "python3"
  },
  "language_info": {
   "codemirror_mode": {
    "name": "ipython",
    "version": 3
   },
   "file_extension": ".py",
   "mimetype": "text/x-python",
   "name": "python",
   "nbconvert_exporter": "python",
   "pygments_lexer": "ipython3",
   "version": "3.8.3"
  }
 },
 "nbformat": 4,
 "nbformat_minor": 4
}
